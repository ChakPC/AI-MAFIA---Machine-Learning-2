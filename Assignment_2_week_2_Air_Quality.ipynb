{
 "cells": [
  {
   "cell_type": "code",
   "execution_count": 2,
   "metadata": {},
   "outputs": [],
   "source": [
    "import numpy as np\n",
    "import pandas as pd\n",
    "import matplotlib.pyplot as plt"
   ]
  },
  {
   "cell_type": "code",
   "execution_count": 30,
   "metadata": {},
   "outputs": [
    {
     "name": "stdout",
     "output_type": "stream",
     "text": [
      "(6, 1600)\n",
      "[[ 0.29341624 -0.83608408  0.23642511 ...  1.04417694 -1.2691729\n",
      "  -1.88400025]\n",
      " [-0.94559871 -0.18922804  0.13283602 ... -0.89920649 -0.00505216\n",
      "  -0.84942743]\n",
      " [-0.42110515 -0.77640262 -0.14772298 ...  1.73039905  1.85766873\n",
      "  -1.45227035]\n",
      " [ 0.40681602 -1.05383124  0.69985396 ... -1.87105676 -1.08036482\n",
      "   0.48861308]\n",
      " [ 0.52566183  0.59799685 -0.18736416 ...  0.44251965  0.73633394\n",
      "   1.4595758 ]\n",
      " [ 1.          1.          1.         ...  1.          1.\n",
      "   1.        ]]\n",
      "(1600,)\n"
     ]
    }
   ],
   "source": [
    "df=pd.read_csv('Train.csv')\n",
    "x1=df['feature_1'].values\n",
    "x2=df['feature_2'].values\n",
    "x3=df['feature_3'].values\n",
    "x4=df['feature_4'].values\n",
    "x5=df['feature_5'].values\n",
    "x6=np.ones((x5.shape[0],)).T\n",
    "x=np.vstack((x1,x2,x3,x4,x5,x6))\n",
    "print(x.shape)\n",
    "print(x)\n",
    "y=df['target'].values\n",
    "y.reshape((-1,))\n",
    "print(y.shape)"
   ]
  },
  {
   "cell_type": "code",
   "execution_count": 31,
   "metadata": {},
   "outputs": [],
   "source": [
    "def hypothesis(x,theta):\n",
    "    return np.dot(theta,x)"
   ]
  },
  {
   "cell_type": "code",
   "execution_count": 32,
   "metadata": {},
   "outputs": [],
   "source": [
    "def error(x,y,theta):\n",
    "    e=0\n",
    "    for i in range(x.shape[1]):\n",
    "        X=x[:,i]\n",
    "        e+=(hypothesis(X,theta)-y[i])**2\n",
    "    return e/(x.shape[1]*2)"
   ]
  },
  {
   "cell_type": "code",
   "execution_count": 39,
   "metadata": {},
   "outputs": [],
   "source": [
    "def grad(x,y,theta):\n",
    "    g=np.zeros(x.shape[0])\n",
    "    for i in range(x.shape[1]):\n",
    "        X=x[:,i]\n",
    "        for j in range(6):\n",
    "            g[j]+=(hypothesis(X,theta)-y[i])*x[j][i]\n",
    "    for i in range(6):\n",
    "        g[i]/=x.shape[1]\n",
    "    return g"
   ]
  },
  {
   "cell_type": "code",
   "execution_count": 40,
   "metadata": {},
   "outputs": [],
   "source": [
    "def grad_ascent(x,y,learning_rate=0.01):\n",
    "    err=[]\n",
    "    theta_list=[]\n",
    "    theta=np.zeros((6,))\n",
    "    for i in range(1000):\n",
    "        e=error(x,y,theta)\n",
    "        g=grad(x,y,theta)\n",
    "        for j in range(6):\n",
    "            theta[j]-=learning_rate*g[j]\n",
    "        err.append(e)\n",
    "        theta_list.append(theta)\n",
    "    return err,theta_list,theta"
   ]
  },
  {
   "cell_type": "code",
   "execution_count": 41,
   "metadata": {},
   "outputs": [],
   "source": [
    "e,t,final=grad_ascent(x,y)"
   ]
  },
  {
   "cell_type": "code",
   "execution_count": 42,
   "metadata": {},
   "outputs": [
    {
     "data": {
      "image/png": "[encoded data removed]",
      "text/plain": [
       "<Figure size 432x288 with 1 Axes>"
      ]
     },
     "metadata": {
      "needs_background": "light"
     },
     "output_type": "display_data"
    }
   ],
   "source": [
    "plt.plot(e)\n",
    "plt.show()"
   ]
  },
  {
   "cell_type": "code",
   "execution_count": 43,
   "metadata": {},
   "outputs": [
    {
     "name": "stdout",
     "output_type": "stream",
     "text": [
      "[29.67987527 92.65908015  8.27756078 44.76510038  2.51769725  4.98825521]\n"
     ]
    }
   ],
   "source": [
    "print(final)"
   ]
  },
  {
   "cell_type": "code",
   "execution_count": null,
   "metadata": {},
   "outputs": [],
   "source": []
  }
 ],
 "metadata": {
  "kernelspec": {
   "display_name": "Python 3",
   "language": "python",
   "name": "python3"
  },
  "language_info": {
   "codemirror_mode": {
    "name": "ipython",
    "version": 3
   },
   "file_extension": ".py",
   "mimetype": "text/x-python",
   "name": "python",
   "nbconvert_exporter": "python",
   "pygments_lexer": "ipython3",
   "version": "3.7.6"
  }
 },
 "nbformat": 4,
 "nbformat_minor": 4
}
